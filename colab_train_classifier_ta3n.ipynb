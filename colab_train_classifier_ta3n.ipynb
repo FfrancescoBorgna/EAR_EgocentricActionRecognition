{
 "cells": [
  {
   "cell_type": "code",
   "execution_count": null,
   "metadata": {},
   "outputs": [],
   "source": [
    "# Mount google drive \n",
    "from google.colab import drive\n",
    "drive.mount('/content/drive')"
   ]
  },
  {
   "cell_type": "code",
   "execution_count": null,
   "metadata": {},
   "outputs": [],
   "source": [
    "# Clone the public repository\n",
    "!git clone https://github.com/FfrancescoBorgna/EAR_EgocentricActionRecognition mldl23-ego"
   ]
  },
  {
   "cell_type": "code",
   "execution_count": null,
   "metadata": {},
   "outputs": [],
   "source": [
    "#install condacolab\n",
    "!pip install -q condacolab\n",
    "import condacolab\n",
    "condacolab.install()"
   ]
  },
  {
   "cell_type": "code",
   "execution_count": null,
   "metadata": {},
   "outputs": [],
   "source": [
    "!mkdir -p egovision_env\n",
    "!tar -xzf /content/drive/MyDrive/MLDL/egovision_p.tar.gz -C /usr/local/envs/\n",
    "!mkdir -p  /usr/local/envs/egovision_p\n",
    "!mv  -v /usr/local/envs/* /usr/local/envs/egovision_p\n",
    "\n",
    "!source activate egovision_p\n",
    "\n",
    "!conda info --env"
   ]
  },
  {
   "cell_type": "code",
   "execution_count": null,
   "metadata": {},
   "outputs": [],
   "source": [
    "!mkdir -p mldl23-ego/checkpoints\n",
    "!cp -a  /content/drive/MyDrive/MLDL/checkpoints/*  mldl23-ego/checkpoints/\n",
    "\n",
    "! mkdir -p mldl23-ego/saved_features\n",
    "!cp -a  /content/drive/MyDrive/MLDL/saved_features/*  mldl23-ego/saved_features/\n",
    "\n",
    "!mkdir -p mldl23-ego/train_images"
   ]
  },
  {
   "cell_type": "code",
   "execution_count": null,
   "metadata": {},
   "outputs": [],
   "source": [
    "%%bash\n",
    "\n",
    "cd mldl23-ego\n",
    "\n",
    "PYTHON_PATH=/usr/local/envs/egovision_p/bin/python3\n",
    "$PYTHON_PATH train_classifier_ta3n.py name=ta3n_D1_D2 \\\n",
    "  config=configs/default.yaml \\\n",
    "  dataset.shift=D1-D2 \\\n",
    "  dataset.RGB.data_path=ek_data/frames \\\n",
    "  action=train \\\n",
    "  gpus=cuda \\\n",
    "  dataset.workers=4"
   ]
  },
  {
   "cell_type": "code",
   "execution_count": null,
   "metadata": {},
   "outputs": [],
   "source": [
    "!cp -a saved_models/* /content/drive/MyDrive/MLDL/saved_models/\n",
    "!cp -a Experiment_logs/* /content/drive/MyDrive/MLDL/Experiment_logs/\n",
    "!cp -a train_images/* /content/drive/MyDrive/MLDL/train_images/"
   ]
  }
 ],
 "metadata": {
  "language_info": {
   "name": "python"
  },
  "orig_nbformat": 4
 },
 "nbformat": 4,
 "nbformat_minor": 2
}
