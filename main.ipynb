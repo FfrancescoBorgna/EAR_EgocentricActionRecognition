{
 "cells": [
  {
   "cell_type": "code",
   "execution_count": 1,
   "metadata": {},
   "outputs": [
    {
     "name": "stdout",
     "output_type": "stream",
     "text": [
      "\u001b[32m2023-05-01 17:28:05\u001b[0m \u001b[34mLOG\u001b[0m \u001b[1;30mINFO\u001b[0m Feature Extraction\n",
      "\u001b[32m2023-05-01 17:28:05\u001b[0m \u001b[34mLOG\u001b[0m \u001b[1;30mINFO\u001b[0m Running with parameters: \n",
      "  action: save\n",
      "  name: primoTentativo\n",
      "  modality: ['RGB']\n",
      "  total_batch: 128\n",
      "  batch_size: 32\n",
      "  gpus: None\n",
      "  wandb_name: None\n",
      "  resume_from: ./checkpoints/I3D_SourceOnlyD1\n",
      "  logname: save_D1-D1.log\n",
      "  models_dir: saved_models/primoTentativo/May01_17-28-02\n",
      "  train:\n",
      "    num_iter: 5000\n",
      "    lr_steps: 3000\n",
      "    eval_freq: 50\n",
      "    num_clips: 1\n",
      "    dense_sampling:\n",
      "      RGB: True\n",
      "    num_frames_per_clip:\n",
      "      RGB: 16\n",
      "  test:\n",
      "    num_clips: 5\n",
      "    dense_sampling:\n",
      "      RGB: True\n",
      "    num_frames_per_clip:\n",
      "      RGB: 16\n",
      "  dataset:\n",
      "    annotations_path: train_val\n",
      "    shift: D1-D1\n",
      "    workers: 0\n",
      "    stride: 2\n",
      "    resolution: 224\n",
      "    RGB:\n",
      "      data_path: ../ek_data/frames\n",
      "      tmpl: img_{:010d}.jpg\n",
      "      features_name: test_feat_kinetics\n",
      "    Event:\n",
      "      rgb4e: 6\n",
      "  models:\n",
      "    RGB:\n",
      "      model: I3D\n",
      "      normalize: False\n",
      "      kwargs:\n",
      "      lr_steps: 3000\n",
      "      lr: 0.01\n",
      "      sgd_momentum: 0.9\n",
      "      weight_decay: 1e-07\n",
      "      dropout: 0.5\n",
      "      resolution: 224\n",
      "      weight_i3d_rgb: ./pretrained_i3d/rgb_imagenet.pt\n",
      "  split: test\n",
      "  save:\n",
      "    num_clips: 5\n",
      "    dense_sampling:\n",
      "      RGB: True\n",
      "    num_frames_per_clip:\n",
      "      RGB: 16\n",
      "  config: configs/I3D_save_feat.yaml\n",
      "  experiment_dir: primoTentativo/May01_17-28-02\n",
      "  log_dir: TEST_RESULTS/primoTentativo\n",
      "  logfile: TEST_RESULTS/primoTentativo/save_D1-D1.log\n",
      "\u001b[32m2023-05-01 17:28:05\u001b[0m \u001b[34mLOG\u001b[0m \u001b[1;30mINFO\u001b[0m Instantiating models per modality\n",
      "\u001b[32m2023-05-01 17:28:05\u001b[0m \u001b[34mLOG\u001b[0m \u001b[1;30mINFO\u001b[0m I3D Net\tModality: RGB\n",
      "\u001b[32m2023-05-01 17:28:05\u001b[0m \u001b[34mLOG\u001b[0m \u001b[1;30mINFO\u001b[0m Loading Kinetics weights I3D\n",
      "\u001b[32m2023-05-01 17:28:05\u001b[0m \u001b[34mLOG\u001b[0m \u001b[1;30mINFO\u001b[0m  * Skipping Logits weight for 'logits.conv3d.weight'\n",
      "\u001b[32m2023-05-01 17:28:05\u001b[0m \u001b[34mLOG\u001b[0m \u001b[1;30mINFO\u001b[0m  * Skipping Logits weight for 'logits.conv3d.bias'\n",
      "\u001b[32m2023-05-01 17:28:05\u001b[0m \u001b[34mLOG\u001b[0m \u001b[1;30mINFO\u001b[0m Restoring action-classifier for modality RGB from checkpoints/I3D_SourceOnlyD1/Oct25_22-38-50/action-classifier_RGB_9.pth\n",
      "\u001b[32m2023-05-01 17:28:05\u001b[0m \u001b[34mLOG\u001b[0m \u001b[1;30mINFO\u001b[0m RGB-Model for action-classifier restored at iter 4850.0\n",
      "Best accuracy on val: 59.54 at iter 4000.0\n",
      "Last accuracy on val: 58.85\n",
      "Last loss: 0.00\n",
      "\u001b[32m2023-05-01 17:28:05\u001b[0m \u001b[34mLOG\u001b[0m \u001b[1;30mINFO\u001b[0m Dataloader for D1-test with 435 samples generated\n",
      "Img not found\n",
      "\u001b[32m2023-05-01 17:28:05\u001b[0m \u001b[34mLOG\u001b[0m \u001b[1;30mERROR\u001b[0m \u001b[31mUncaught exception\u001b[0m\n",
      "Traceback (most recent call last):\n",
      "  File \"/Users/francesco/Desktop/Università/SecondoAnno/MLDL/MLDL_HW/mldl23-ego-master/utils/loaders.py\", line 175, in _load_data\n",
      "    img = Image.open(os.path.join(data_path, person,record.untrimmed_video_name, tmpl.format(idx_untrimmed))).convert('RGB')\n",
      "  File \"/Library/Frameworks/Python.framework/Versions/3.10/lib/python3.10/site-packages/PIL/Image.py\", line 2953, in open\n",
      "    fp = builtins.open(filename, \"rb\")\n",
      "FileNotFoundError: [Errno 2] No such file or directory: '../ek_data/frames/P08/P08_09/img_0000000155.jpg'\n",
      "\n",
      "During handling of the above exception, another exception occurred:\n",
      "\n",
      "Traceback (most recent call last):\n",
      "  File \"/Users/francesco/Desktop/Università/SecondoAnno/MLDL/MLDL_HW/mldl23-ego-master/save_feat.py\", line 159, in <module>\n",
      "    main()\n",
      "  File \"/Users/francesco/Desktop/Università/SecondoAnno/MLDL/MLDL_HW/mldl23-ego-master/save_feat.py\", line 70, in main\n",
      "    save_feat(action_classifier, loader, device, action_classifier.current_iter, num_classes)\n",
      "  File \"/Users/francesco/Desktop/Università/SecondoAnno/MLDL/MLDL_HW/mldl23-ego-master/save_feat.py\", line 94, in save_feat\n",
      "    for i_val, (data, label, video_name, uid) in enumerate(loader):\n",
      "  File \"/Library/Frameworks/Python.framework/Versions/3.10/lib/python3.10/site-packages/torch/utils/data/dataloader.py\", line 628, in __next__\n",
      "    data = self._next_data()\n",
      "  File \"/Library/Frameworks/Python.framework/Versions/3.10/lib/python3.10/site-packages/torch/utils/data/dataloader.py\", line 671, in _next_data\n",
      "    data = self._dataset_fetcher.fetch(index)  # may raise StopIteration\n",
      "  File \"/Library/Frameworks/Python.framework/Versions/3.10/lib/python3.10/site-packages/torch/utils/data/_utils/fetch.py\", line 58, in fetch\n",
      "    data = [self.dataset[idx] for idx in possibly_batched_index]\n",
      "  File \"/Library/Frameworks/Python.framework/Versions/3.10/lib/python3.10/site-packages/torch/utils/data/_utils/fetch.py\", line 58, in <listcomp>\n",
      "    data = [self.dataset[idx] for idx in possibly_batched_index]\n",
      "  File \"/Users/francesco/Desktop/Università/SecondoAnno/MLDL/MLDL_HW/mldl23-ego-master/utils/loaders.py\", line 146, in __getitem__\n",
      "    img, label = self.get(m, record, segment_indices[m])\n",
      "  File \"/Users/francesco/Desktop/Università/SecondoAnno/MLDL/MLDL_HW/mldl23-ego-master/utils/loaders.py\", line 159, in get\n",
      "    frame = self._load_data(modality, record, p)\n",
      "  File \"/Users/francesco/Desktop/Università/SecondoAnno/MLDL/MLDL_HW/mldl23-ego-master/utils/loaders.py\", line 180, in _load_data\n",
      "    max_idx_video = int(sorted(glob.glob(os.path.join(data_path,\n",
      "IndexError: list index out of range\n"
     ]
    }
   ],
   "source": [
    "!python3 save_feat.py name=primoTentativo \\\n",
    "  config=configs/I3D_save_feat.yaml \\\n",
    "  dataset.shift=D1-D1 \\\n",
    "  dataset.RGB.data_path=../ek_data/frames "
   ]
  },
  {
   "cell_type": "markdown",
   "metadata": {},
   "source": []
  },
  {
   "cell_type": "code",
   "execution_count": 5,
   "metadata": {},
   "outputs": [],
   "source": [
    "import torch"
   ]
  },
  {
   "cell_type": "code",
   "execution_count": 6,
   "metadata": {},
   "outputs": [
    {
     "name": "stdout",
     "output_type": "stream",
     "text": [
      "1.13.1\n"
     ]
    }
   ],
   "source": [
    "print(torch.__version__)"
   ]
  },
  {
   "cell_type": "markdown",
   "metadata": {},
   "source": []
  }
 ],
 "metadata": {
  "kernelspec": {
   "display_name": "Python 3",
   "language": "python",
   "name": "python3"
  },
  "language_info": {
   "codemirror_mode": {
    "name": "ipython",
    "version": 3
   },
   "file_extension": ".py",
   "mimetype": "text/x-python",
   "name": "python",
   "nbconvert_exporter": "python",
   "pygments_lexer": "ipython3",
   "version": "3.10.0"
  },
  "orig_nbformat": 4
 },
 "nbformat": 4,
 "nbformat_minor": 2
}
