{
 "cells": [
  {
   "cell_type": "code",
   "execution_count": 9,
   "metadata": {},
   "outputs": [],
   "source": [
    "import os\n",
    "from datetime import datetime\n",
    "from pathlib import Path\n",
    "import torch\n",
    "from abc import ABCMeta, abstractmethod\n",
    "\n",
    "\n",
    "from typing import Dict, Optional"
   ]
  },
  {
   "cell_type": "code",
   "execution_count": 15,
   "metadata": {},
   "outputs": [],
   "source": [
    "path =  '/Users/francesco/Desktop/Università/SecondoAnno/MLDL/MLDL_HW/mldl23-ego-master/checkpoints/I3D_SourceOnlyD1'\n",
    "last_models_dir = list(\n",
    "            sorted(\n",
    "                Path(path).iterdir(),\n",
    "                key=lambda date: datetime.strptime(os.path.basename(os.path.normpath(date)), \"%b%d_%H-%M-%S\") if not os.path.basename(os.path.normpath(date)).startswith('.') \\\n",
    "                                  else (),\n",
    "            )\n",
    "        )[-1]"
   ]
  },
  {
   "cell_type": "code",
   "execution_count": 18,
   "metadata": {},
   "outputs": [
    {
     "data": {
      "text/plain": [
       "PosixPath('/Users/francesco/Desktop/Università/SecondoAnno/MLDL/MLDL_HW/mldl23-ego-master/checkpoints/I3D_SourceOnlyD1/Oct25_22-38-50')"
      ]
     },
     "execution_count": 18,
     "metadata": {},
     "output_type": "execute_result"
    }
   ],
   "source": [
    "last_models_dir.resolve()"
   ]
  },
  {
   "cell_type": "code",
   "execution_count": 13,
   "metadata": {},
   "outputs": [
    {
     "name": "stdout",
     "output_type": "stream",
     "text": [
      "12 is greater than 11\n",
      "12 is equal to 12\n",
      "12 is smaller than 13\n"
     ]
    }
   ],
   "source": [
    "# Use if-else in Lambda Functions\n",
    "\n",
    "# check if two numbers is equal or greater or lesser\n",
    "result = lambda x,y : f\"{x} is smaller than {y}\" \\\n",
    "if x < y   \\\n",
    "else (f\"{x} is greater than {y}\" if x > y \\\n",
    "\t\t\telse f\"{x} is equal to {y}\")\n",
    "\n",
    "\n",
    "# print for numbers\n",
    "print(result(12, 11))\n",
    "print(result(12, 12))\n",
    "print(result(12, 13))\n",
    "\n"
   ]
  },
  {
   "cell_type": "code",
   "execution_count": null,
   "metadata": {},
   "outputs": [],
   "source": [
    "data_path = 'ek_data/frames'\n",
    "\n"
   ]
  },
  {
   "cell_type": "code",
   "execution_count": null,
   "metadata": {},
   "outputs": [],
   "source": [
    "!"
   ]
  }
 ],
 "metadata": {
  "kernelspec": {
   "display_name": "Python 3",
   "language": "python",
   "name": "python3"
  },
  "language_info": {
   "codemirror_mode": {
    "name": "ipython",
    "version": 3
   },
   "file_extension": ".py",
   "mimetype": "text/x-python",
   "name": "python",
   "nbconvert_exporter": "python",
   "pygments_lexer": "ipython3",
   "version": "3.10.0"
  },
  "orig_nbformat": 4
 },
 "nbformat": 4,
 "nbformat_minor": 2
}
