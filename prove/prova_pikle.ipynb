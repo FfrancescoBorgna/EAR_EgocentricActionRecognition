{
 "cells": [
  {
   "cell_type": "code",
   "execution_count": 3,
   "metadata": {},
   "outputs": [],
   "source": [
    "import pickle\n",
    "import numpy as np"
   ]
  },
  {
   "cell_type": "code",
   "execution_count": 4,
   "metadata": {},
   "outputs": [],
   "source": [
    "\n",
    "path = '/Users/francesco/Desktop/Università/SecondoAnno/MLDL/MLDL_HW/mldl23-ego-master/train_val/D3_test.pkl'\n",
    "with open(path, 'rb') as f:\n",
    "    data = pickle.load(f)"
   ]
  },
  {
   "cell_type": "code",
   "execution_count": 30,
   "metadata": {},
   "outputs": [
    {
     "data": {
      "text/html": [
       "<div>\n",
       "<style scoped>\n",
       "    .dataframe tbody tr th:only-of-type {\n",
       "        vertical-align: middle;\n",
       "    }\n",
       "\n",
       "    .dataframe tbody tr th {\n",
       "        vertical-align: top;\n",
       "    }\n",
       "\n",
       "    .dataframe thead th {\n",
       "        text-align: right;\n",
       "    }\n",
       "</style>\n",
       "<table border=\"1\" class=\"dataframe\">\n",
       "  <thead>\n",
       "    <tr style=\"text-align: right;\">\n",
       "      <th></th>\n",
       "      <th>uid</th>\n",
       "      <th>participant_id</th>\n",
       "      <th>video_id</th>\n",
       "      <th>narration</th>\n",
       "      <th>start_timestamp</th>\n",
       "      <th>stop_timestamp</th>\n",
       "      <th>start_frame</th>\n",
       "      <th>stop_frame</th>\n",
       "      <th>verb</th>\n",
       "      <th>verb_class</th>\n",
       "    </tr>\n",
       "  </thead>\n",
       "  <tbody>\n",
       "    <tr>\n",
       "      <th>0</th>\n",
       "      <td>22931</td>\n",
       "      <td>P22</td>\n",
       "      <td>P22_01</td>\n",
       "      <td>pick up plate</td>\n",
       "      <td>00:00:01.17</td>\n",
       "      <td>00:00:02.92</td>\n",
       "      <td>70</td>\n",
       "      <td>175</td>\n",
       "      <td>pick-up</td>\n",
       "      <td>0</td>\n",
       "    </tr>\n",
       "    <tr>\n",
       "      <th>1</th>\n",
       "      <td>22932</td>\n",
       "      <td>P22</td>\n",
       "      <td>P22_01</td>\n",
       "      <td>pick up plate</td>\n",
       "      <td>00:00:03.54</td>\n",
       "      <td>00:00:04.28</td>\n",
       "      <td>212</td>\n",
       "      <td>256</td>\n",
       "      <td>pick-up</td>\n",
       "      <td>0</td>\n",
       "    </tr>\n",
       "    <tr>\n",
       "      <th>2</th>\n",
       "      <td>22933</td>\n",
       "      <td>P22</td>\n",
       "      <td>P22_01</td>\n",
       "      <td>open cabinet</td>\n",
       "      <td>00:00:05.60</td>\n",
       "      <td>00:00:06.32</td>\n",
       "      <td>336</td>\n",
       "      <td>379</td>\n",
       "      <td>open</td>\n",
       "      <td>2</td>\n",
       "    </tr>\n",
       "    <tr>\n",
       "      <th>3</th>\n",
       "      <td>22934</td>\n",
       "      <td>P22</td>\n",
       "      <td>P22_01</td>\n",
       "      <td>put down plate</td>\n",
       "      <td>00:00:08.27</td>\n",
       "      <td>00:00:11.01</td>\n",
       "      <td>496</td>\n",
       "      <td>660</td>\n",
       "      <td>put-down</td>\n",
       "      <td>1</td>\n",
       "    </tr>\n",
       "    <tr>\n",
       "      <th>4</th>\n",
       "      <td>22935</td>\n",
       "      <td>P22</td>\n",
       "      <td>P22_01</td>\n",
       "      <td>put down plate</td>\n",
       "      <td>00:00:13.73</td>\n",
       "      <td>00:00:18.80</td>\n",
       "      <td>823</td>\n",
       "      <td>1128</td>\n",
       "      <td>put-down</td>\n",
       "      <td>1</td>\n",
       "    </tr>\n",
       "    <tr>\n",
       "      <th>...</th>\n",
       "      <td>...</td>\n",
       "      <td>...</td>\n",
       "      <td>...</td>\n",
       "      <td>...</td>\n",
       "      <td>...</td>\n",
       "      <td>...</td>\n",
       "      <td>...</td>\n",
       "      <td>...</td>\n",
       "      <td>...</td>\n",
       "      <td>...</td>\n",
       "    </tr>\n",
       "    <tr>\n",
       "      <th>969</th>\n",
       "      <td>24156</td>\n",
       "      <td>P22</td>\n",
       "      <td>P22_04</td>\n",
       "      <td>put down sponge</td>\n",
       "      <td>00:06:16.05</td>\n",
       "      <td>00:06:17.04</td>\n",
       "      <td>22563</td>\n",
       "      <td>22622</td>\n",
       "      <td>put-down</td>\n",
       "      <td>1</td>\n",
       "    </tr>\n",
       "    <tr>\n",
       "      <th>970</th>\n",
       "      <td>24157</td>\n",
       "      <td>P22</td>\n",
       "      <td>P22_04</td>\n",
       "      <td>rinse hands</td>\n",
       "      <td>00:06:16.62</td>\n",
       "      <td>00:06:18.02</td>\n",
       "      <td>22597</td>\n",
       "      <td>22681</td>\n",
       "      <td>rinse</td>\n",
       "      <td>4</td>\n",
       "    </tr>\n",
       "    <tr>\n",
       "      <th>971</th>\n",
       "      <td>24158</td>\n",
       "      <td>P22</td>\n",
       "      <td>P22_04</td>\n",
       "      <td>close tap</td>\n",
       "      <td>00:06:17.94</td>\n",
       "      <td>00:06:18.77</td>\n",
       "      <td>22676</td>\n",
       "      <td>22726</td>\n",
       "      <td>close</td>\n",
       "      <td>3</td>\n",
       "    </tr>\n",
       "    <tr>\n",
       "      <th>972</th>\n",
       "      <td>24160</td>\n",
       "      <td>P22</td>\n",
       "      <td>P22_04</td>\n",
       "      <td>pick up cloth</td>\n",
       "      <td>00:06:19.67</td>\n",
       "      <td>00:06:20.83</td>\n",
       "      <td>22780</td>\n",
       "      <td>22849</td>\n",
       "      <td>pick-up</td>\n",
       "      <td>0</td>\n",
       "    </tr>\n",
       "    <tr>\n",
       "      <th>973</th>\n",
       "      <td>24162</td>\n",
       "      <td>P22</td>\n",
       "      <td>P22_04</td>\n",
       "      <td>put down cloth</td>\n",
       "      <td>00:06:23.90</td>\n",
       "      <td>00:06:25.88</td>\n",
       "      <td>23034</td>\n",
       "      <td>23152</td>\n",
       "      <td>put-down</td>\n",
       "      <td>1</td>\n",
       "    </tr>\n",
       "  </tbody>\n",
       "</table>\n",
       "<p>974 rows × 10 columns</p>\n",
       "</div>"
      ],
      "text/plain": [
       "       uid participant_id video_id        narration start_timestamp  \\\n",
       "0    22931            P22   P22_01    pick up plate     00:00:01.17   \n",
       "1    22932            P22   P22_01    pick up plate     00:00:03.54   \n",
       "2    22933            P22   P22_01     open cabinet     00:00:05.60   \n",
       "3    22934            P22   P22_01   put down plate     00:00:08.27   \n",
       "4    22935            P22   P22_01   put down plate     00:00:13.73   \n",
       "..     ...            ...      ...              ...             ...   \n",
       "969  24156            P22   P22_04  put down sponge     00:06:16.05   \n",
       "970  24157            P22   P22_04      rinse hands     00:06:16.62   \n",
       "971  24158            P22   P22_04        close tap     00:06:17.94   \n",
       "972  24160            P22   P22_04    pick up cloth     00:06:19.67   \n",
       "973  24162            P22   P22_04   put down cloth     00:06:23.90   \n",
       "\n",
       "    stop_timestamp  start_frame  stop_frame      verb  verb_class  \n",
       "0      00:00:02.92           70         175   pick-up           0  \n",
       "1      00:00:04.28          212         256   pick-up           0  \n",
       "2      00:00:06.32          336         379      open           2  \n",
       "3      00:00:11.01          496         660  put-down           1  \n",
       "4      00:00:18.80          823        1128  put-down           1  \n",
       "..             ...          ...         ...       ...         ...  \n",
       "969    00:06:17.04        22563       22622  put-down           1  \n",
       "970    00:06:18.02        22597       22681     rinse           4  \n",
       "971    00:06:18.77        22676       22726     close           3  \n",
       "972    00:06:20.83        22780       22849   pick-up           0  \n",
       "973    00:06:25.88        23034       23152  put-down           1  \n",
       "\n",
       "[974 rows x 10 columns]"
      ]
     },
     "execution_count": 30,
     "metadata": {},
     "output_type": "execute_result"
    }
   ],
   "source": [
    "data"
   ]
  },
  {
   "cell_type": "code",
   "execution_count": 31,
   "metadata": {},
   "outputs": [],
   "source": [
    "video_ids = data.video_id"
   ]
  },
  {
   "cell_type": "code",
   "execution_count": 32,
   "metadata": {},
   "outputs": [
    {
     "data": {
      "text/plain": [
       "array(['P22_01', 'P22_02', 'P22_03', 'P22_04'], dtype=object)"
      ]
     },
     "execution_count": 32,
     "metadata": {},
     "output_type": "execute_result"
    }
   ],
   "source": [
    "np.unique(video_ids)"
   ]
  },
  {
   "attachments": {},
   "cell_type": "markdown",
   "metadata": {},
   "source": [
    "D1 : 'P08_09', 'P08_10', 'P08_14', 'P08_15', 'P08_16', 'P08_17']\n",
    "\n",
    "D2: 'P01_11', 'P01_12', 'P01_13', 'P01_14', 'P01_15'\n",
    "\n",
    "D3: 'P22_01', 'P22_02', 'P22_03', 'P22_04'"
   ]
  },
  {
   "cell_type": "code",
   "execution_count": 4,
   "metadata": {},
   "outputs": [],
   "source": [
    "path = '../saved_features/primoTentativo_D1_test.pkl'\n",
    "with open(path, 'rb') as f:\n",
    "    data = pickle.load(f)"
   ]
  },
  {
   "cell_type": "code",
   "execution_count": 11,
   "metadata": {},
   "outputs": [
    {
     "data": {
      "text/plain": [
       "(435,)"
      ]
     },
     "execution_count": 11,
     "metadata": {},
     "output_type": "execute_result"
    }
   ],
   "source": [
    "np.shape(data['features'])\n"
   ]
  },
  {
   "cell_type": "code",
   "execution_count": 12,
   "metadata": {},
   "outputs": [
    {
     "data": {
      "text/plain": [
       "dict_keys(['uid', 'video_name', 'features_RGB'])"
      ]
     },
     "execution_count": 12,
     "metadata": {},
     "output_type": "execute_result"
    }
   ],
   "source": [
    "data['features'][0].keys()"
   ]
  },
  {
   "cell_type": "code",
   "execution_count": 14,
   "metadata": {},
   "outputs": [
    {
     "data": {
      "text/plain": [
       "(5, 1024)"
      ]
     },
     "execution_count": 14,
     "metadata": {},
     "output_type": "execute_result"
    }
   ],
   "source": [
    "np.shape(data['features'][0]['features_RGB'])"
   ]
  },
  {
   "cell_type": "code",
   "execution_count": 8,
   "metadata": {},
   "outputs": [
    {
     "ename": "UnpicklingError",
     "evalue": "invalid load key, 'H'.",
     "output_type": "error",
     "traceback": [
      "\u001b[0;31m---------------------------------------------------------------------------\u001b[0m",
      "\u001b[0;31mUnpicklingError\u001b[0m                           Traceback (most recent call last)",
      "\u001b[1;32m/Users/francesco/Desktop/Università/SecondoAnno/MLDL/MLDL_HW/mldl23-ego-master/prove/prova_pikle.ipynb Cell 11\u001b[0m in \u001b[0;36m<cell line: 2>\u001b[0;34m()\u001b[0m\n\u001b[1;32m      <a href='vscode-notebook-cell:/Users/francesco/Desktop/Universit%C3%A0/SecondoAnno/MLDL/MLDL_HW/mldl23-ego-master/prove/prova_pikle.ipynb#X13sZmlsZQ%3D%3D?line=0'>1</a>\u001b[0m path \u001b[39m=\u001b[39m \u001b[39m'\u001b[39m\u001b[39m/Users/francesco/Desktop/Università/SecondoAnno/MLDL/MLDL_HW/mldl23-ego-master/audio_feat/D1_D1_test_Spec_TSN.pkl\u001b[39m\u001b[39m'\u001b[39m\n\u001b[1;32m      <a href='vscode-notebook-cell:/Users/francesco/Desktop/Universit%C3%A0/SecondoAnno/MLDL/MLDL_HW/mldl23-ego-master/prove/prova_pikle.ipynb#X13sZmlsZQ%3D%3D?line=1'>2</a>\u001b[0m \u001b[39mwith\u001b[39;00m \u001b[39mopen\u001b[39m(path, \u001b[39m'\u001b[39m\u001b[39mrb\u001b[39m\u001b[39m'\u001b[39m) \u001b[39mas\u001b[39;00m f:\n\u001b[0;32m----> <a href='vscode-notebook-cell:/Users/francesco/Desktop/Universit%C3%A0/SecondoAnno/MLDL/MLDL_HW/mldl23-ego-master/prove/prova_pikle.ipynb#X13sZmlsZQ%3D%3D?line=2'>3</a>\u001b[0m     data \u001b[39m=\u001b[39m pickle\u001b[39m.\u001b[39;49mload(f)\n",
      "\u001b[0;31mUnpicklingError\u001b[0m: invalid load key, 'H'."
     ]
    }
   ],
   "source": [
    "path = '/Users/francesco/Desktop/Università/SecondoAnno/MLDL/MLDL_HW/mldl23-ego-master/audio_feat/D1_D1_test_Spec_TSN.pkl'\n",
    "with open(path, 'rb') as f:\n",
    "    data = pickle.load(f)"
   ]
  },
  {
   "cell_type": "code",
   "execution_count": 7,
   "metadata": {},
   "outputs": [
    {
     "ename": "UnpicklingError",
     "evalue": "invalid load key, 'H'.",
     "output_type": "error",
     "traceback": [
      "\u001b[0;31m---------------------------------------------------------------------------\u001b[0m",
      "\u001b[0;31mUnpicklingError\u001b[0m                           Traceback (most recent call last)",
      "\u001b[1;32m/Users/francesco/Desktop/Università/SecondoAnno/MLDL/MLDL_HW/mldl23-ego-master/prove/prova_pikle.ipynb Cell 12\u001b[0m in \u001b[0;36m<cell line: 3>\u001b[0;34m()\u001b[0m\n\u001b[1;32m      <a href='vscode-notebook-cell:/Users/francesco/Desktop/Universit%C3%A0/SecondoAnno/MLDL/MLDL_HW/mldl23-ego-master/prove/prova_pikle.ipynb#X14sZmlsZQ%3D%3D?line=0'>1</a>\u001b[0m \u001b[39mimport\u001b[39;00m \u001b[39mpandas\u001b[39;00m \u001b[39mas\u001b[39;00m \u001b[39mpd\u001b[39;00m\n\u001b[0;32m----> <a href='vscode-notebook-cell:/Users/francesco/Desktop/Universit%C3%A0/SecondoAnno/MLDL/MLDL_HW/mldl23-ego-master/prove/prova_pikle.ipynb#X14sZmlsZQ%3D%3D?line=2'>3</a>\u001b[0m obj \u001b[39m=\u001b[39m pd\u001b[39m.\u001b[39;49mread_pickle(\u001b[39mr\u001b[39;49m\u001b[39m'\u001b[39;49m\u001b[39m/Users/francesco/Desktop/Università/SecondoAnno/MLDL/MLDL_HW/mldl23-ego-master/audio_feat/D1-D2_test_Spec_TSN_.pkl\u001b[39;49m\u001b[39m'\u001b[39;49m)\n",
      "File \u001b[0;32m~/Library/Python/3.10/lib/python/site-packages/pandas/io/pickle.py:208\u001b[0m, in \u001b[0;36mread_pickle\u001b[0;34m(filepath_or_buffer, compression, storage_options)\u001b[0m\n\u001b[1;32m    205\u001b[0m     \u001b[39mwith\u001b[39;00m warnings\u001b[39m.\u001b[39mcatch_warnings(record\u001b[39m=\u001b[39m\u001b[39mTrue\u001b[39;00m):\n\u001b[1;32m    206\u001b[0m         \u001b[39m# We want to silence any warnings about, e.g. moved modules.\u001b[39;00m\n\u001b[1;32m    207\u001b[0m         warnings\u001b[39m.\u001b[39msimplefilter(\u001b[39m\"\u001b[39m\u001b[39mignore\u001b[39m\u001b[39m\"\u001b[39m, \u001b[39mWarning\u001b[39;00m)\n\u001b[0;32m--> 208\u001b[0m         \u001b[39mreturn\u001b[39;00m pickle\u001b[39m.\u001b[39;49mload(handles\u001b[39m.\u001b[39;49mhandle)\n\u001b[1;32m    209\u001b[0m \u001b[39mexcept\u001b[39;00m excs_to_catch:\n\u001b[1;32m    210\u001b[0m     \u001b[39m# e.g.\u001b[39;00m\n\u001b[1;32m    211\u001b[0m     \u001b[39m#  \"No module named 'pandas.core.sparse.series'\"\u001b[39;00m\n\u001b[1;32m    212\u001b[0m     \u001b[39m#  \"Can't get attribute '__nat_unpickle' on <module 'pandas._libs.tslib\"\u001b[39;00m\n\u001b[1;32m    213\u001b[0m     \u001b[39mreturn\u001b[39;00m pc\u001b[39m.\u001b[39mload(handles\u001b[39m.\u001b[39mhandle, encoding\u001b[39m=\u001b[39m\u001b[39mNone\u001b[39;00m)\n",
      "\u001b[0;31mUnpicklingError\u001b[0m: invalid load key, 'H'."
     ]
    }
   ],
   "source": [
    "import pandas as pd\n",
    "\n",
    "obj = pd.read_pickle(r'/Users/francesco/Desktop/Università/SecondoAnno/MLDL/MLDL_HW/mldl23-ego-master/audio_feat/D1-D2_test_Spec_TSN_.pkl')"
   ]
  }
 ],
 "metadata": {
  "kernelspec": {
   "display_name": "Python 3",
   "language": "python",
   "name": "python3"
  },
  "language_info": {
   "codemirror_mode": {
    "name": "ipython",
    "version": 3
   },
   "file_extension": ".py",
   "mimetype": "text/x-python",
   "name": "python",
   "nbconvert_exporter": "python",
   "pygments_lexer": "ipython3",
   "version": "3.10.0"
  },
  "orig_nbformat": 4
 },
 "nbformat": 4,
 "nbformat_minor": 2
}
