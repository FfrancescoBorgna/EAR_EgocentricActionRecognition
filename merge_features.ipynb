{
 "cells": [
  {
   "cell_type": "code",
   "execution_count": 2,
   "metadata": {},
   "outputs": [],
   "source": [
    "import pandas as pd\n",
    "import hickle\n",
    "import numpy as np"
   ]
  },
  {
   "cell_type": "code",
   "execution_count": 128,
   "metadata": {},
   "outputs": [],
   "source": [
    "def addElementToDict(d,subfeat,len,new_c,new_c_name):\n",
    "    #new_c : new coloumn\n",
    "    d_out = d\n",
    "    for i in range(0,len):\n",
    "        d_out[subfeat][i][new_c_name] = new_c[i,:,:]    \n",
    "    return d_out"
   ]
  },
  {
   "cell_type": "code",
   "execution_count": 139,
   "metadata": {},
   "outputs": [],
   "source": [
    "def mergeDatasets(domain,source):\n",
    "    org_path = \"saved_features/test_feat_kinetics_\"+domain+\"_\"+source+\".pkl\"\n",
    "    audio_path = \"audio_feat/\"+domain+\"-\"+domain+\"_\"+source+\"_Spec_TSN_.pkl\"\n",
    "    data = pd.DataFrame(pd.read_pickle(org_path))\n",
    "\n",
    "    with open(audio_path, 'rb') as f:\n",
    "        prova= hickle.load(f)\n",
    "\n",
    "    new_feats = prova[\"\\'features\\'\"][\"\\'Spec\\'\"][0]\n",
    "    \n",
    "    old_dataset = data.to_dict()\n",
    "    new_dataset = addElementToDict(old_dataset,\"features\",data.shape[0],new_feats,\"audio\")\n",
    "    out_dataset = pd.DataFrame.from_dict(new_dataset)\n",
    "    filename = \"RGB_Audio_features/test_feat_rgb_audio_\"+domain+\"_\"+source+\".pkl\"\n",
    "    out_dataset.to_pickle(filename)  \n",
    "    "
   ]
  },
  {
   "cell_type": "code",
   "execution_count": 142,
   "metadata": {},
   "outputs": [
    {
     "name": "stderr",
     "output_type": "stream",
     "text": [
      "/Library/Frameworks/Python.framework/Versions/3.10/lib/python3.10/site-packages/hickle/lookup.py:1547: DataRecoveredWarning: loader 'b'!recover!'' missing for 'AttemptRecoverCustom' type object. Data recovered (data)\n",
      "  warnings.warn(\n",
      "/Library/Frameworks/Python.framework/Versions/3.10/lib/python3.10/site-packages/hickle/lookup.py:1523: DataRecoveredWarning: loader 'b'!recover!'' missing for 'AttemptRecoverCustom' type object. Data recovered (data)\n",
      "  warnings.warn(\n",
      "/Library/Frameworks/Python.framework/Versions/3.10/lib/python3.10/site-packages/hickle/lookup.py:1547: DataRecoveredWarning: loader 'b'!recover!'' missing for 'AttemptRecoverCustom' type object. Data recovered (data)\n",
      "  warnings.warn(\n",
      "/Library/Frameworks/Python.framework/Versions/3.10/lib/python3.10/site-packages/hickle/lookup.py:1523: DataRecoveredWarning: loader 'b'!recover!'' missing for 'AttemptRecoverCustom' type object. Data recovered (data)\n",
      "  warnings.warn(\n",
      "/Library/Frameworks/Python.framework/Versions/3.10/lib/python3.10/site-packages/hickle/lookup.py:1547: DataRecoveredWarning: loader 'b'!recover!'' missing for 'AttemptRecoverCustom' type object. Data recovered (data)\n",
      "  warnings.warn(\n",
      "/Library/Frameworks/Python.framework/Versions/3.10/lib/python3.10/site-packages/hickle/lookup.py:1523: DataRecoveredWarning: loader 'b'!recover!'' missing for 'AttemptRecoverCustom' type object. Data recovered (data)\n",
      "  warnings.warn(\n",
      "/Library/Frameworks/Python.framework/Versions/3.10/lib/python3.10/site-packages/hickle/lookup.py:1547: DataRecoveredWarning: loader 'b'!recover!'' missing for 'AttemptRecoverCustom' type object. Data recovered (data)\n",
      "  warnings.warn(\n",
      "/Library/Frameworks/Python.framework/Versions/3.10/lib/python3.10/site-packages/hickle/lookup.py:1523: DataRecoveredWarning: loader 'b'!recover!'' missing for 'AttemptRecoverCustom' type object. Data recovered (data)\n",
      "  warnings.warn(\n",
      "/Library/Frameworks/Python.framework/Versions/3.10/lib/python3.10/site-packages/hickle/lookup.py:1547: DataRecoveredWarning: loader 'b'!recover!'' missing for 'AttemptRecoverCustom' type object. Data recovered (data)\n",
      "  warnings.warn(\n",
      "/Library/Frameworks/Python.framework/Versions/3.10/lib/python3.10/site-packages/hickle/lookup.py:1523: DataRecoveredWarning: loader 'b'!recover!'' missing for 'AttemptRecoverCustom' type object. Data recovered (data)\n",
      "  warnings.warn(\n",
      "/Library/Frameworks/Python.framework/Versions/3.10/lib/python3.10/site-packages/hickle/lookup.py:1547: DataRecoveredWarning: loader 'b'!recover!'' missing for 'AttemptRecoverCustom' type object. Data recovered (data)\n",
      "  warnings.warn(\n",
      "/Library/Frameworks/Python.framework/Versions/3.10/lib/python3.10/site-packages/hickle/lookup.py:1523: DataRecoveredWarning: loader 'b'!recover!'' missing for 'AttemptRecoverCustom' type object. Data recovered (data)\n",
      "  warnings.warn(\n"
     ]
    }
   ],
   "source": [
    "#original features path:\n",
    "domain = [\"D1\",\"D2\",\"D3\"]\n",
    "source = [\"train\",\"test\"]\n",
    "\n",
    "for d in domain:\n",
    "    for s in source:\n",
    "        mergeDatasets(d,s)"
   ]
  },
  {
   "attachments": {},
   "cell_type": "markdown",
   "metadata": {},
   "source": [
    "# Prove"
   ]
  },
  {
   "cell_type": "code",
   "execution_count": 5,
   "metadata": {},
   "outputs": [],
   "source": [
    "path_prova = \"RGB_Audio_features/test_feat_rgb_audio_D1_train.pkl\"\n",
    "data = pd.DataFrame(pd.read_pickle(path_prova))"
   ]
  },
  {
   "cell_type": "code",
   "execution_count": null,
   "metadata": {},
   "outputs": [],
   "source": []
  }
 ],
 "metadata": {
  "kernelspec": {
   "display_name": "Python 3",
   "language": "python",
   "name": "python3"
  },
  "language_info": {
   "codemirror_mode": {
    "name": "ipython",
    "version": 3
   },
   "file_extension": ".py",
   "mimetype": "text/x-python",
   "name": "python",
   "nbconvert_exporter": "python",
   "pygments_lexer": "ipython3",
   "version": "3.10.0"
  },
  "orig_nbformat": 4
 },
 "nbformat": 4,
 "nbformat_minor": 2
}
